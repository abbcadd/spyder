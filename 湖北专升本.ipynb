{
 "cells": [
  {
   "cell_type": "code",
   "execution_count": 4,
   "id": "initial_id",
   "metadata": {
    "collapsed": true,
    "ExecuteTime": {
     "end_time": "2025-02-10T08:53:34.799293Z",
     "start_time": "2025-02-10T08:53:34.784081Z"
    }
   },
   "outputs": [],
   "source": [
    "import requests\n",
    "from lxml import etree\n",
    "import pandas as pd"
   ]
  },
  {
   "cell_type": "code",
   "outputs": [],
   "source": [
    "# 初始化数据列表\n",
    "df_list = []\n",
    "\n",
    "# 循环遍历所有页面\n",
    "page = 1\n",
    "while page <= 52:\n",
    "    url = f'https://www.sbgw.cn/ptzsb/school/{page}.html'\n",
    "    try:\n",
    "        response = requests.get(url)\n",
    "        response.raise_for_status()  # 检查请求是否成功\n",
    "        tree = etree.HTML(response.text)\n",
    "        \n",
    "        # 提取学校名称\n",
    "        school_name = tree.xpath('//span[@href=\"#\"]/text()')\n",
    "        school_name = [name.strip() for name in school_name]  # 清理学校名称中的空白字符\n",
    "        \n",
    "        # 提取质量信息并清理\n",
    "        quality = tree.xpath('//span[@class=\"lei_color\"]/text()')\n",
    "        cleaned_quality = [q.strip() for q in quality]\n",
    "        \n",
    "        # 提取年份信息并清理\n",
    "        year1 = tree.xpath('//a[@class=\"collapsed\"]/b/text()')\n",
    "        cleaned_year1 = [year.strip() for year in year1]\n",
    "        \n",
    "        # 提取专业名称、原计划招生人数、调整后招生人数\n",
    "        Professional_name = tree.xpath('//tbody/tr/td/a[1]/text()')\n",
    "        number = tree.xpath('//tbody/tr/td[2]/b/text()')\n",
    "        adj_number1 = tree.xpath('//tbody/tr/td[3]/b/text()')\n",
    "        adj_number = [adj_numb.strip() for adj_numb in adj_number1]\n",
    "        \n",
    "        # 假设 quality 列表中第一个元素是性质，第二个元素是类别\n",
    "        if len(cleaned_quality) >= 2:\n",
    "            cleand_quality = cleaned_quality[0]\n",
    "            cleand_cat = cleaned_quality[1]\n",
    "        else:\n",
    "            cleand_quality = None\n",
    "            cleand_cat = None\n",
    "        \n",
    "        # 假设每个年份对应的专业数量相同\n",
    "        num_years = len(cleaned_year1)\n",
    "        num_professions = len(Professional_name) // num_years\n",
    "        \n",
    "        for i in range(num_years):\n",
    "            year_info = {\n",
    "                '年份': cleaned_year1[i],\n",
    "                '招生专业': Professional_name[i * num_professions:(i + 1) * num_professions],\n",
    "                '原计划招生人数': number[i * num_professions:(i + 1) * num_professions],\n",
    "                '调整后招生人数': adj_number[i * num_professions:(i + 1) * num_professions]\n",
    "            }\n",
    "            \n",
    "            for j in range(len(year_info['招生专业'])):\n",
    "                df_list.append({\n",
    "                    '院校名称': school_name[0] if school_name else None,\n",
    "                    '类别': cleand_cat,\n",
    "                    '性质': cleand_quality,\n",
    "                    '年份': year_info['年份'],\n",
    "                    '招生专业': year_info['招生专业'][j],\n",
    "                    '原计划招生人数': year_info['原计划招生人数'][j],\n",
    "                    '调整后招生人数': year_info['调整后招生人数'][j]\n",
    "                })\n",
    "    \n",
    "    except requests.exceptions.RequestException as e:\n",
    "        print(f\"请求页面 {page} 时出错: {e}\")\n",
    "    except Exception as e:\n",
    "        print(f\"处理页面 {page} 时出错: {e}\")\n",
    "    \n",
    "    page += 1\n",
    "\n",
    "# 将数据转换为 DataFrame\n",
    "df = pd.DataFrame(df_list)\n",
    "\n",
    "# 保存 DataFrame 到 Excel 文件\n",
    "df.to_excel('湖北专升本招生信息.xlsx', index=False)\n",
    "\n",
    "print(\"数据已保存到湖北专升本招生信息.xlsx\") "
   ],
   "metadata": {
    "collapsed": false
   },
   "id": "20fb87f72d6957b7"
  },
  {
   "cell_type": "code",
   "outputs": [
    {
     "data": {
      "text/plain": "                院校名称   类别  性质        年份         招生专业 原计划招生人数 调整后招生人数\n0            长江大学专升本  综合类  公办  2024招生计划       视觉传达设计     103     103\n1            长江大学专升本  综合类  公办  2024招生计划         产品设计      90      90\n2            长江大学专升本  综合类  公办  2024招生计划       数字媒体艺术     160     160\n3            长江大学专升本  综合类  公办  2024招生计划       广播电视编导      60      60\n4            长江大学专升本  综合类  公办  2024招生计划      播音与主持艺术      60      60\n...              ...  ...  ..       ...          ...     ...     ...\n3472  湖北工程学院新技术学院专升本  理工类  民办  2020招生计划        汉语言文学      15      25\n3473  湖北工程学院新技术学院专升本  理工类  民办  2020招生计划  机械设计制造及其自动化      15      10\n3474  湖北工程学院新技术学院专升本  理工类  民办  2020招生计划     计算机科学与技术      20      16\n3475  湖北工程学院新技术学院专升本  理工类  民办  2020招生计划         土木工程      15       7\n3476  湖北工程学院新技术学院专升本  理工类  民办  2020招生计划         工程造价      15      20\n\n[3477 rows x 7 columns]",
      "text/html": "<div>\n<style scoped>\n    .dataframe tbody tr th:only-of-type {\n        vertical-align: middle;\n    }\n\n    .dataframe tbody tr th {\n        vertical-align: top;\n    }\n\n    .dataframe thead th {\n        text-align: right;\n    }\n</style>\n<table border=\"1\" class=\"dataframe\">\n  <thead>\n    <tr style=\"text-align: right;\">\n      <th></th>\n      <th>院校名称</th>\n      <th>类别</th>\n      <th>性质</th>\n      <th>年份</th>\n      <th>招生专业</th>\n      <th>原计划招生人数</th>\n      <th>调整后招生人数</th>\n    </tr>\n  </thead>\n  <tbody>\n    <tr>\n      <th>0</th>\n      <td>长江大学专升本</td>\n      <td>综合类</td>\n      <td>公办</td>\n      <td>2024招生计划</td>\n      <td>视觉传达设计</td>\n      <td>103</td>\n      <td>103</td>\n    </tr>\n    <tr>\n      <th>1</th>\n      <td>长江大学专升本</td>\n      <td>综合类</td>\n      <td>公办</td>\n      <td>2024招生计划</td>\n      <td>产品设计</td>\n      <td>90</td>\n      <td>90</td>\n    </tr>\n    <tr>\n      <th>2</th>\n      <td>长江大学专升本</td>\n      <td>综合类</td>\n      <td>公办</td>\n      <td>2024招生计划</td>\n      <td>数字媒体艺术</td>\n      <td>160</td>\n      <td>160</td>\n    </tr>\n    <tr>\n      <th>3</th>\n      <td>长江大学专升本</td>\n      <td>综合类</td>\n      <td>公办</td>\n      <td>2024招生计划</td>\n      <td>广播电视编导</td>\n      <td>60</td>\n      <td>60</td>\n    </tr>\n    <tr>\n      <th>4</th>\n      <td>长江大学专升本</td>\n      <td>综合类</td>\n      <td>公办</td>\n      <td>2024招生计划</td>\n      <td>播音与主持艺术</td>\n      <td>60</td>\n      <td>60</td>\n    </tr>\n    <tr>\n      <th>...</th>\n      <td>...</td>\n      <td>...</td>\n      <td>...</td>\n      <td>...</td>\n      <td>...</td>\n      <td>...</td>\n      <td>...</td>\n    </tr>\n    <tr>\n      <th>3472</th>\n      <td>湖北工程学院新技术学院专升本</td>\n      <td>理工类</td>\n      <td>民办</td>\n      <td>2020招生计划</td>\n      <td>汉语言文学</td>\n      <td>15</td>\n      <td>25</td>\n    </tr>\n    <tr>\n      <th>3473</th>\n      <td>湖北工程学院新技术学院专升本</td>\n      <td>理工类</td>\n      <td>民办</td>\n      <td>2020招生计划</td>\n      <td>机械设计制造及其自动化</td>\n      <td>15</td>\n      <td>10</td>\n    </tr>\n    <tr>\n      <th>3474</th>\n      <td>湖北工程学院新技术学院专升本</td>\n      <td>理工类</td>\n      <td>民办</td>\n      <td>2020招生计划</td>\n      <td>计算机科学与技术</td>\n      <td>20</td>\n      <td>16</td>\n    </tr>\n    <tr>\n      <th>3475</th>\n      <td>湖北工程学院新技术学院专升本</td>\n      <td>理工类</td>\n      <td>民办</td>\n      <td>2020招生计划</td>\n      <td>土木工程</td>\n      <td>15</td>\n      <td>7</td>\n    </tr>\n    <tr>\n      <th>3476</th>\n      <td>湖北工程学院新技术学院专升本</td>\n      <td>理工类</td>\n      <td>民办</td>\n      <td>2020招生计划</td>\n      <td>工程造价</td>\n      <td>15</td>\n      <td>20</td>\n    </tr>\n  </tbody>\n</table>\n<p>3477 rows × 7 columns</p>\n</div>"
     },
     "execution_count": 43,
     "metadata": {},
     "output_type": "execute_result"
    }
   ],
   "source": [
    "df"
   ],
   "metadata": {
    "collapsed": false,
    "ExecuteTime": {
     "end_time": "2025-02-10T10:31:31.517040Z",
     "start_time": "2025-02-10T10:31:31.503401Z"
    }
   },
   "id": "1bb22a66568d0ee6",
   "execution_count": 43
  },
  {
   "cell_type": "code",
   "outputs": [
    {
     "data": {
      "text/plain": "                 院校名称   类别  性质        年份  招生专业 原计划招生人数 调整后招生人数\n112         武汉纺织大学专升本  理工类  公办  2020招生计划  软件工程      23      74\n513       湖北汽车工业学院专升本  理工类  公办  2020招生计划  软件工程      30      39\n698         湖北工程学院专升本  理工类  公办  2024招生计划  软件工程      63      63\n720         湖北工程学院专升本  理工类  公办  2023招生计划  软件工程      66      66\n746         湖北工程学院专升本  理工类  公办  2022招生计划  软件工程      68      68\n...               ...  ...  ..       ...   ...     ...     ...\n3166   武汉纺织大学外经贸学院专升本  财经类  民办  2020招生计划  软件工程      50      50\n3185  湖北汽车工业学院科技学院专升本  理工类  民办  2021招生计划  软件工程      35     105\n3433   湖北工程学院新技术学院专升本  理工类  民办  2024招生计划  软件工程      40      40\n3449   湖北工程学院新技术学院专升本  理工类  民办  2022招生计划  软件工程      57      57\n3459   湖北工程学院新技术学院专升本  理工类  民办  2021招生计划  软件工程      50      50\n\n[73 rows x 7 columns]",
      "text/html": "<div>\n<style scoped>\n    .dataframe tbody tr th:only-of-type {\n        vertical-align: middle;\n    }\n\n    .dataframe tbody tr th {\n        vertical-align: top;\n    }\n\n    .dataframe thead th {\n        text-align: right;\n    }\n</style>\n<table border=\"1\" class=\"dataframe\">\n  <thead>\n    <tr style=\"text-align: right;\">\n      <th></th>\n      <th>院校名称</th>\n      <th>类别</th>\n      <th>性质</th>\n      <th>年份</th>\n      <th>招生专业</th>\n      <th>原计划招生人数</th>\n      <th>调整后招生人数</th>\n    </tr>\n  </thead>\n  <tbody>\n    <tr>\n      <th>112</th>\n      <td>武汉纺织大学专升本</td>\n      <td>理工类</td>\n      <td>公办</td>\n      <td>2020招生计划</td>\n      <td>软件工程</td>\n      <td>23</td>\n      <td>74</td>\n    </tr>\n    <tr>\n      <th>513</th>\n      <td>湖北汽车工业学院专升本</td>\n      <td>理工类</td>\n      <td>公办</td>\n      <td>2020招生计划</td>\n      <td>软件工程</td>\n      <td>30</td>\n      <td>39</td>\n    </tr>\n    <tr>\n      <th>698</th>\n      <td>湖北工程学院专升本</td>\n      <td>理工类</td>\n      <td>公办</td>\n      <td>2024招生计划</td>\n      <td>软件工程</td>\n      <td>63</td>\n      <td>63</td>\n    </tr>\n    <tr>\n      <th>720</th>\n      <td>湖北工程学院专升本</td>\n      <td>理工类</td>\n      <td>公办</td>\n      <td>2023招生计划</td>\n      <td>软件工程</td>\n      <td>66</td>\n      <td>66</td>\n    </tr>\n    <tr>\n      <th>746</th>\n      <td>湖北工程学院专升本</td>\n      <td>理工类</td>\n      <td>公办</td>\n      <td>2022招生计划</td>\n      <td>软件工程</td>\n      <td>68</td>\n      <td>68</td>\n    </tr>\n    <tr>\n      <th>...</th>\n      <td>...</td>\n      <td>...</td>\n      <td>...</td>\n      <td>...</td>\n      <td>...</td>\n      <td>...</td>\n      <td>...</td>\n    </tr>\n    <tr>\n      <th>3166</th>\n      <td>武汉纺织大学外经贸学院专升本</td>\n      <td>财经类</td>\n      <td>民办</td>\n      <td>2020招生计划</td>\n      <td>软件工程</td>\n      <td>50</td>\n      <td>50</td>\n    </tr>\n    <tr>\n      <th>3185</th>\n      <td>湖北汽车工业学院科技学院专升本</td>\n      <td>理工类</td>\n      <td>民办</td>\n      <td>2021招生计划</td>\n      <td>软件工程</td>\n      <td>35</td>\n      <td>105</td>\n    </tr>\n    <tr>\n      <th>3433</th>\n      <td>湖北工程学院新技术学院专升本</td>\n      <td>理工类</td>\n      <td>民办</td>\n      <td>2024招生计划</td>\n      <td>软件工程</td>\n      <td>40</td>\n      <td>40</td>\n    </tr>\n    <tr>\n      <th>3449</th>\n      <td>湖北工程学院新技术学院专升本</td>\n      <td>理工类</td>\n      <td>民办</td>\n      <td>2022招生计划</td>\n      <td>软件工程</td>\n      <td>57</td>\n      <td>57</td>\n    </tr>\n    <tr>\n      <th>3459</th>\n      <td>湖北工程学院新技术学院专升本</td>\n      <td>理工类</td>\n      <td>民办</td>\n      <td>2021招生计划</td>\n      <td>软件工程</td>\n      <td>50</td>\n      <td>50</td>\n    </tr>\n  </tbody>\n</table>\n<p>73 rows × 7 columns</p>\n</div>"
     },
     "execution_count": 46,
     "metadata": {},
     "output_type": "execute_result"
    }
   ],
   "source": [
    "end = df[df['招生专业'] == '软件工程']\n",
    "end"
   ],
   "metadata": {
    "collapsed": false,
    "ExecuteTime": {
     "end_time": "2025-02-10T10:44:29.588190Z",
     "start_time": "2025-02-10T10:44:29.577430Z"
    }
   },
   "id": "1d3076a2ef5a4ce0",
   "execution_count": 46
  },
  {
   "cell_type": "code",
   "outputs": [],
   "source": [
    "pub = end.groupby(['性质','年份'])"
   ],
   "metadata": {
    "collapsed": false,
    "ExecuteTime": {
     "end_time": "2025-02-10T10:58:38.507111Z",
     "start_time": "2025-02-10T10:58:38.503314Z"
    }
   },
   "id": "2fc975f5e4097a0",
   "execution_count": 49
  },
  {
   "cell_type": "code",
   "outputs": [
    {
     "name": "stderr",
     "output_type": "stream",
     "text": [
      "\n",
      "KeyboardInterrupt\n",
      "\n"
     ]
    }
   ],
   "source": [],
   "metadata": {
    "collapsed": false,
    "ExecuteTime": {
     "end_time": "2025-02-10T10:31:20.310423Z",
     "start_time": "2025-02-10T10:30:59.804378Z"
    }
   },
   "id": "b7da4935b64d9c6",
   "execution_count": 42
  },
  {
   "cell_type": "code",
   "outputs": [],
   "source": [],
   "metadata": {
    "collapsed": false
   },
   "id": "fe73c86fb8a56ea8"
  },
  {
   "cell_type": "code",
   "outputs": [],
   "source": [],
   "metadata": {
    "collapsed": false
   },
   "id": "902822c1624b6238"
  }
 ],
 "metadata": {
  "kernelspec": {
   "display_name": "Python 3",
   "language": "python",
   "name": "python3"
  },
  "language_info": {
   "codemirror_mode": {
    "name": "ipython",
    "version": 2
   },
   "file_extension": ".py",
   "mimetype": "text/x-python",
   "name": "python",
   "nbconvert_exporter": "python",
   "pygments_lexer": "ipython2",
   "version": "2.7.6"
  }
 },
 "nbformat": 4,
 "nbformat_minor": 5
}
